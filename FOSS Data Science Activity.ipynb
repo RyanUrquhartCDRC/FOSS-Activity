{
 "cells": [
  {
   "cell_type": "markdown",
   "id": "a6484d22",
   "metadata": {},
   "source": [
    "# Welcome\n",
    "\n",
    "Practice text\n"
   ]
  },
  {
   "cell_type": "markdown",
   "id": "1b82f978",
   "metadata": {},
   "source": [
    "# About This Notebook\n",
    "\n",
    "The interactive document you're looking at is called a Jupyter Notebook. In it, information is divided into \"cells\" containing either explanatory text (like this cell) or code (like the next cell).\n",
    "\n",
    "To run a cell of code, you can select a cell by clicking on it, then click the \"Run\" button on the toolbar at the top of the page. Alternatively, you can press the Ctrl and Enter keys together to run a cell of code after selecting it.\n",
    "\n",
    "After the code in a cell has finished running, the output from the code will appear beneath its cell. Try running the code that's in the next cell. It should output a phrase, and a solution to a sum."
   ]
  },
  {
   "cell_type": "code",
   "execution_count": 1,
   "id": "10026243",
   "metadata": {},
   "outputs": [
    {
     "name": "stdout",
     "output_type": "stream",
     "text": [
      "Hello World!\n",
      "23\n"
     ]
    }
   ],
   "source": [
    "print(\"Hello World!\")\n",
    "print(17 + 6)"
   ]
  },
  {
   "cell_type": "markdown",
   "id": "15f76c49",
   "metadata": {},
   "source": [
    "You might notice that each cell of code has a set of square brackets that appear to its left. When a cell hasn't been run, there is a space between the brackets. While a cell is currently running, an asterisk (\\*) appears in the brackets. When it's finished running, a number appears in the brackets, indicating the order in which the cells have been run.\n",
    "\n",
    "These cells can all be edited. We've labeled some lines of code with **\"Try editing this code!\"**, which means that after running the code the first time, you can try editing these lines to use your own choice of input and then re-run the code."
   ]
  },
  {
   "cell_type": "markdown",
   "id": "5e18270f",
   "metadata": {},
   "source": [
    "# About Python\n",
    "\n",
    "The name of the programming language being used here is Python, a popular tool among data scientists. This exercise isn't a full introduction to Python, but it would be helpful to mention some of its basic properties.\n",
    "\n",
    "If a line of code contains the `#` symbol, then everything on the line after `#` will be ignored when running the code. This is very useful for including descriptive comments within the code.\n",
    "\n",
    "**Variables** are placeholder objects that can store values assigned to them. Variables can be named practically anything, but they should generally have names that indicate their purpose.\n",
    "\n",
    "A value that is assigned to a variable could be a number, like `17`, `3.4`, or `-108`. Or the value could be text (also known as a **string**), which is always surrounded by quotation marks. Many other types of values are possible too, which we'll see later.\n",
    "\n",
    "Variables are assigned values by using the symbol `=`. The name of the variable goes on the left, and the value being assigned to it goes on the right.\n",
    "\n",
    "The next cell of code has an example of assigning values to variables, and then printing those values. Try running the code now.\n"
   ]
  },
  {
   "cell_type": "code",
   "execution_count": 2,
   "id": "df979516",
   "metadata": {},
   "outputs": [
    {
     "name": "stdout",
     "output_type": "stream",
     "text": [
      "Hello! My name is Waldo.\n",
      "Today I had eggs for breakfast.\n",
      "17 is my favourite number.\n",
      "Twice my favourite number would be: 34\n"
     ]
    }
   ],
   "source": [
    "# This cell has examples of variable assignment\n",
    "# (Notice how this line starts with '#' so it is a comment ignored by the code.)\n",
    "\n",
    "# vvv Try editing this code!\n",
    "my_name = \"Waldo\" \n",
    "breakfast_food = \"eggs\"\n",
    "fav_number = 17\n",
    "# ^^^ Try editing this code!\n",
    "\n",
    "print(\"Hello! My name is \" + my_name + \".\")\n",
    "print(\"Today I had \" + breakfast_food + \" for breakfast.\")\n",
    "print(str(fav_number) + \" is my favourite number.\")\n",
    "print(\"Twice my favourite number would be: \" + str(fav_number * 2))"
   ]
  },
  {
   "cell_type": "markdown",
   "id": "48180f4c",
   "metadata": {},
   "source": [
    "Don't worry about understanding every word or line of code in this notebook. Our goal is simply to give you an idea of the types of output we can generate when analysing a data set.\n",
    "\n",
    "Now it's your turn to write some code. Go back to the previous cell and change the values that are assigned to the variables. (This is the section labelled \"Try editing this code!\") Then run the code again, and see how the output has changed. You can also try adding more comments (using `#`), or writing new sentences for the code to print out."
   ]
  },
  {
   "cell_type": "markdown",
   "id": "177542bf",
   "metadata": {},
   "source": [
    "# Code Setup\n",
    "\n",
    "We'll start by importing some Python libraries that contain useful functions for interacting with our data. Please be sure to run this cell of code, so that the later code will be able to use these functions."
   ]
  },
  {
   "cell_type": "code",
   "execution_count": 3,
   "id": "3503a200",
   "metadata": {},
   "outputs": [
    {
     "name": "stdout",
     "output_type": "stream",
     "text": [
      "About to import Python modules...\n",
      "Finished importing Python modules\n"
     ]
    }
   ],
   "source": [
    "# Importing useful Python modules\n",
    "\n",
    "print(\"About to import Python modules...\")\n",
    "import os\n",
    "import numpy as np\n",
    "import matplotlib.pyplot as plt\n",
    "import pandas as pd\n",
    "import re\n",
    "from wordcloud import WordCloud, STOPWORDS\n",
    "print(\"Finished importing Python modules\")\n"
   ]
  },
  {
   "cell_type": "code",
   "execution_count": 20,
   "id": "5f34285d",
   "metadata": {},
   "outputs": [
    {
     "data": {
      "text/plain": [
       "'3.9.13'"
      ]
     },
     "execution_count": 20,
     "metadata": {},
     "output_type": "execute_result"
    }
   ],
   "source": [
    "from platform import python_version\n",
    "python_version()"
   ]
  },
  {
   "cell_type": "code",
   "execution_count": 21,
   "id": "42ce37dc",
   "metadata": {},
   "outputs": [
    {
     "ename": "TypeError",
     "evalue": "'str' object is not callable",
     "output_type": "error",
     "traceback": [
      "\u001b[1;31m---------------------------------------------------------------------------\u001b[0m",
      "\u001b[1;31mTypeError\u001b[0m                                 Traceback (most recent call last)",
      "Input \u001b[1;32mIn [21]\u001b[0m, in \u001b[0;36m<cell line: 1>\u001b[1;34m()\u001b[0m\n\u001b[1;32m----> 1\u001b[0m \u001b[43mre\u001b[49m\u001b[38;5;241;43m.\u001b[39;49m\u001b[43m__version__\u001b[49m\u001b[43m(\u001b[49m\u001b[43m)\u001b[49m\n",
      "\u001b[1;31mTypeError\u001b[0m: 'str' object is not callable"
     ]
    }
   ],
   "source": [
    "re.__version__()"
   ]
  },
  {
   "cell_type": "markdown",
   "id": "b4cb4f25",
   "metadata": {},
   "source": [
    "Next, we'll load in the data. This publicly available data set consists of over 400,000 news headlines from around the world, collected between 10th March and 10th August 2014.\n",
    "\n",
    "(The data comes from the UCI Machine Learning Repository. Lichman, M. (2013). UCI Machine Learning Repository [http://archive.ics.uci.edu/ml]. Irvine, CA: University of California, School of Information and Computer Science.)"
   ]
  },
  {
   "cell_type": "code",
   "execution_count": null,
   "id": "84b4ca38",
   "metadata": {},
   "outputs": [],
   "source": [
    "# This code will load in our data set.\n",
    "\n",
    "# This is the name of the file, which is a csv file that has been compressed as a zip file.\n",
    "data_file_name = \"uci-news-aggregator-short.zip\"\n",
    "\n",
    "# Here we read file.\n",
    "news_df = pd.read_csv(data_file_name)\n",
    "\n",
    "# We're only going to look at titles and publishers.\n",
    "news_df = news_df.loc[:, ['TITLE','PUBLISHER']]\n",
    "\n",
    "print(\"Finished reading the data.\")"
   ]
  },
  {
   "cell_type": "markdown",
   "id": "9f110bdb",
   "metadata": {},
   "source": [
    "The data set is now stored in the variable named `news_df`. The variables we used in our earlier example only contained a single number or string of text. This variable contains an entire table of data!\n",
    "\n",
    "This particular type of table is called a **data frame**. Data frames have some useful built-in functions for quick analysis. Let's look at the size of the data frame, and what the first few lines look like."
   ]
  },
  {
   "cell_type": "code",
   "execution_count": null,
   "id": "82ea7fbc",
   "metadata": {},
   "outputs": [],
   "source": [
    "# See what the table of data looks like:\n",
    "print(news_df)"
   ]
  },
  {
   "cell_type": "markdown",
   "id": "f717918f",
   "metadata": {},
   "source": [
    "There's too much data to print, so we see an abbreviated version here, containing the first and last few lines of the data frame.\n",
    "\n",
    "Just from this quick look at the data, we see that this table has 3 columns:\n",
    "- a numbered label (also called the **index**) for each row\n",
    "- `TITLE`, containing the headline\n",
    "- `PUBLISHER`, containing the source\n",
    "\n",
    "We can refer to each row in a data frame as a **record** that contains a set of associated information. Each column is a **feature** which is a specific type of data that is provided for each record.\n",
    "\n",
    "At the very end of the output from the previous cell's code, we see the size of the data frame (number of rows and columns). We can also get the size of the data frame like so:"
   ]
  },
  {
   "cell_type": "code",
   "execution_count": null,
   "id": "8755e5b7",
   "metadata": {},
   "outputs": [],
   "source": [
    "# Get the size of a data frame:\n",
    "print(news_df.shape)"
   ]
  },
  {
   "cell_type": "markdown",
   "id": "ac7d8035",
   "metadata": {},
   "source": [
    "# Examining Publishers\n",
    "\n",
    "Let's look at how many different publishers there are in the `PUBLISHER` column."
   ]
  },
  {
   "cell_type": "code",
   "execution_count": null,
   "id": "16549f31",
   "metadata": {},
   "outputs": [],
   "source": [
    "# Look at the number of headlines per publisher in our data set:\n",
    "\n",
    "publisher_counts = news_df['PUBLISHER'].value_counts()\n",
    "print(publisher_counts)"
   ]
  },
  {
   "cell_type": "markdown",
   "id": "030201ca",
   "metadata": {},
   "source": [
    "Again, this table is too large to easily print everything, but at a glance we can see that the publisher with the most headlines in this data set is Reuters, followed by Huffington Post and Businessweek.\n",
    "\n",
    "Also, notice that the final line of output says `Length: 10985`. This means there are 10,985 publishers in this data set.\n",
    "\n",
    "We saved this table of publisher counts in the variable named `publisher_counts`, so we can use it in the next cell's code to see how many records appear with a given publisher. You can change the value of `publisher_to_check` to the name of any other news source you think might appear in this data set. \n",
    "\n",
    "(Note: Python often makes use of indented code. If you edit the code we've written below, do not alter the indents at the start of lines. If you do, the code might not work correctly.)"
   ]
  },
  {
   "cell_type": "code",
   "execution_count": null,
   "id": "e8023624",
   "metadata": {},
   "outputs": [],
   "source": [
    "# Look at how many headlines in this data set are from a given publisher.\n",
    "\n",
    "# vvv Try editing this code!\n",
    "publisher_to_check = \"Yorkshire Post\"\n",
    "# ^^^ Try editing this code!\n",
    "\n",
    "if publisher_to_check in publisher_counts:\n",
    "    print(publisher_counts[publisher_to_check])\n",
    "else:\n",
    "    print(\"That name doesn't appear in the list of publishers.\")"
   ]
  },
  {
   "cell_type": "markdown",
   "id": "5d2cf60e",
   "metadata": {},
   "source": [
    "# Examining Words in Headlines\n",
    "\n",
    "Now let's look at the headlines. Let's say we're interested in looking at the set of words in a headline. Here's a convenient method for splitting up a string of text into a list of words, separating it on all its spaces:"
   ]
  },
  {
   "cell_type": "code",
   "execution_count": null,
   "id": "4f55577b",
   "metadata": {},
   "outputs": [],
   "source": [
    "# Splitting a string of text into separate words\n",
    "\n",
    "example_sentence = \"This example sentence contains six words.\"\n",
    "example_word_list = example_sentence.split()\n",
    "print(example_sentence)\n",
    "print(example_word_list)"
   ]
  },
  {
   "cell_type": "markdown",
   "id": "3d343a4d",
   "metadata": {},
   "source": [
    "We'll apply this to every headline in the `TITLE` column, and store all the results in a new column we'll call `WORDS`."
   ]
  },
  {
   "cell_type": "code",
   "execution_count": null,
   "id": "8f33f86a",
   "metadata": {},
   "outputs": [],
   "source": [
    "# Adding a new WORDS column to our table\n",
    "\n",
    "news_df['WORDS'] = [headline.split() for headline in news_df['TITLE']]\n",
    "print(news_df)"
   ]
  },
  {
   "cell_type": "markdown",
   "id": "167b4a7e",
   "metadata": {},
   "source": [
    "Here's some code that will show us how many headlines contain a given word, and shows the first few examples:"
   ]
  },
  {
   "cell_type": "code",
   "execution_count": null,
   "id": "cf6f54d5",
   "metadata": {},
   "outputs": [],
   "source": [
    "# Counting the number of headlines with a chosen word\n",
    "\n",
    "# vvv Try editing this code!\n",
    "word_to_check = \"Sport\"\n",
    "# ^^^ Try editing this code!\n",
    "\n",
    "news_words_df = news_df.explode(\"WORDS\")\n",
    "word_appearances = news_words_df.loc[news_words_df['WORDS']==word_to_check]\n",
    "num_appearances = len(word_appearances)\n",
    "print(\"Number of appearances of \\\"\" + word_to_check + \"\\\": \" + str(num_appearances))\n",
    "print(\"Examples of appearances (maximum 10):\")\n",
    "print(word_appearances.iloc[:10,[0,1]].to_string(index=False))"
   ]
  },
  {
   "cell_type": "markdown",
   "id": "bb4d8ccd",
   "metadata": {},
   "source": [
    "In the code above, you can change the value of `word_to_check` to be any word you'd like to search for. Try it yourself!"
   ]
  },
  {
   "cell_type": "markdown",
   "id": "0a2da84a",
   "metadata": {},
   "source": [
    "# Normalising Words\n",
    "\n",
    "After you've tried searching some words, go back and check how many times the word \"Sport\" appears. Now try checking \"sport\" in all lowercase instead -- you'll get a different output!\n",
    "\n",
    "Currently, the code distinguishes different capitalisation as different words, but that's not really what we want. When we're checking how frequently a word is used, we want all capitalisations to be treated equally. Also, try checking \"Sport,\" with a comma after it -- that's treated differently too. So we should rewrite our code to ignore punctuation and capitalisation differences. That's what the code in the next cell does, saving the normalised words by overwriting the `WORDS` column."
   ]
  },
  {
   "cell_type": "code",
   "execution_count": null,
   "id": "95b91621",
   "metadata": {},
   "outputs": [],
   "source": [
    "# Removing all punctuation and converting all words to lowercase\n",
    "\n",
    "nopunct_pattern = re.compile('[^a-zA-Z0-9 ]+')\n",
    "news_df['WORDS'] = [set(nopunct_pattern.sub('', headline.lower()).split()) for headline in news_df['TITLE']]\n",
    "print(news_df)"
   ]
  },
  {
   "cell_type": "markdown",
   "id": "66cbd2b0",
   "metadata": {},
   "source": [
    "Now when we search for words, the headlines with all possible capitalisations will be included. Try your searches again in this next cell of code. Again, feel free to change `word_to_check` to any word you'd like."
   ]
  },
  {
   "cell_type": "code",
   "execution_count": null,
   "id": "74061e5a",
   "metadata": {},
   "outputs": [],
   "source": [
    "# Counting the number of headlines with a chosen word (now with normalised words)\n",
    "\n",
    "# vvv Try editing this code!\n",
    "word_to_check = \"sport\"\n",
    "# ^^^ Try editing this code!\n",
    "\n",
    "word_to_check = word_to_check.lower() # Force lowercase\n",
    "news_words_df = news_df.explode(\"WORDS\")\n",
    "word_appearances = news_words_df.loc[news_words_df['WORDS']==word_to_check]\n",
    "num_appearances = len(word_appearances)\n",
    "print(\"Number of appearances of \\\"\" + word_to_check + \"\\\": \" + str(num_appearances))\n",
    "print(\"Examples of appearances (maximum 10):\")\n",
    "print(word_appearances.iloc[:10,[0,1]].to_string(index=False))"
   ]
  },
  {
   "cell_type": "markdown",
   "id": "6f8ea984",
   "metadata": {},
   "source": [
    "# Exploring word frequency\n",
    "\n",
    "Next, let's compare how frequently certain words appear in headlines from different news sources. First let's take a look through the 30 publishers with the most headlines in our data set."
   ]
  },
  {
   "cell_type": "code",
   "execution_count": null,
   "id": "6f8d335a",
   "metadata": {},
   "outputs": [],
   "source": [
    "# View 30 most common publishers in the data set\n",
    "print(publisher_counts[:30])"
   ]
  },
  {
   "cell_type": "markdown",
   "id": "7f10c169",
   "metadata": {},
   "source": [
    "From this list, we'll choose just a few to represent the UK and the US, in the code below. If you like, you could change these lists to your own choices of publishers, but make sure you write the publisher's names exactly as they appear in the data. Then, we'll isolate the numbers for how many headlines are from each of these sources."
   ]
  },
  {
   "cell_type": "code",
   "execution_count": null,
   "id": "82b296eb",
   "metadata": {},
   "outputs": [],
   "source": [
    "# Declare lists of UK and US publishers that we'd like to examine\n",
    "\n",
    "# vvv Try editing this code!\n",
    "uk_publisher_list = [\"Daily Mail\", \"Telegraph.co.uk\", \"The Guardian\"]\n",
    "us_publisher_list = [\"Los Angeles Times\", \"USA TODAY\", \"CBS Local\"]\n",
    "# ^^^ Try editing this code!\n",
    "\n",
    "print(publisher_counts[uk_publisher_list])\n",
    "print(\"Total for these publishers:\")\n",
    "print(sum(publisher_counts[uk_publisher_list]))\n",
    "print()\n",
    "print(publisher_counts[us_publisher_list])\n",
    "print(\"Total for these publishers:\")\n",
    "print(sum(publisher_counts[us_publisher_list]))"
   ]
  },
  {
   "cell_type": "markdown",
   "id": "b2200ea4",
   "metadata": {},
   "source": [
    "Let's compare how many times the word \"the\" appears in these sources. You can also try replacing \"the\" with any other word you'd like to check."
   ]
  },
  {
   "cell_type": "code",
   "execution_count": null,
   "id": "d66c2de4",
   "metadata": {},
   "outputs": [],
   "source": [
    "# Counting instances of a certain word in headlines from selected publishers\n",
    "\n",
    "# vvv Try editing this code!\n",
    "word_to_check = \"the\"\n",
    "# ^^^ Try editing this code!\n",
    "\n",
    "word_to_check = word_to_check.lower() # Force lowercase\n",
    "news_words_df = news_df.explode(\"WORDS\")\n",
    "word_appearances = news_words_df.loc[news_words_df['WORDS']==word_to_check].drop(['WORDS'], axis=1)\n",
    "\n",
    "word_appearances_uk = word_appearances[word_appearances[\"PUBLISHER\"].isin(uk_publisher_list)]\n",
    "word_appearances_us = word_appearances[word_appearances[\"PUBLISHER\"].isin(us_publisher_list)]\n",
    "\n",
    "total_uk_count = len(news_df[news_df[\"PUBLISHER\"].isin(uk_publisher_list)])\n",
    "total_us_count = len(news_df[news_df[\"PUBLISHER\"].isin(us_publisher_list)])\n",
    "\n",
    "print(\"Number of UK headlines with \\\"\" + word_to_check + \"\\\": \" + str(len(word_appearances_uk)) )\n",
    "print(\"Total UK headlines: \" + str(total_uk_count))\n",
    "print(\"Proportion: \" + str(len(word_appearances_uk)/total_uk_count))\n",
    "print()\n",
    "print(\"Number of US headlines with \\\"\" + word_to_check + \"\\\": \" + str(len(word_appearances_us)) )\n",
    "print(\"Total US headlines: \" + str(total_us_count))\n",
    "print(\"Proportion: \" + str(len(word_appearances_us)/total_us_count))\n",
    "print()\n",
    "print(word_appearances_uk)\n",
    "print(word_appearances_us)\n"
   ]
  },
  {
   "cell_type": "markdown",
   "id": "2048194e",
   "metadata": {},
   "source": [
    "Let's try to find which words appear in the most UK headlines and US headlines. You can change the value of the `top_words_number` variable to choose how many words you'd like to display, instead of only the top ten."
   ]
  },
  {
   "cell_type": "code",
   "execution_count": null,
   "id": "db7cc228",
   "metadata": {},
   "outputs": [],
   "source": [
    "# Most common words in headlines from our selected publishers\n",
    "\n",
    "# vvv Try editing this code!\n",
    "top_words_number = 10\n",
    "# ^^^ Try editing this code!\n",
    "\n",
    "uk_words_df = news_words_df[news_words_df[\"PUBLISHER\"].isin(uk_publisher_list)]\n",
    "uk_word_counts = uk_words_df['WORDS'].value_counts()\n",
    "print(str(top_words_number) + \" most common words from selected UK publishers:\")\n",
    "print(uk_word_counts[:top_words_number])\n",
    "print()\n",
    "us_words_df = news_words_df[news_words_df[\"PUBLISHER\"].isin(us_publisher_list)]\n",
    "us_word_counts = us_words_df['WORDS'].value_counts()\n",
    "print(str(top_words_number) + \" most common words from selected US publishers:\")\n",
    "print(us_word_counts[:top_words_number])\n"
   ]
  },
  {
   "cell_type": "markdown",
   "id": "3d98ecc2",
   "metadata": {},
   "source": [
    "Many of these words aren't very interesting: to, the, in, of, and so on. Let's consult a list of these common words (also called \"stop words\"), and ignore anything on that list when counting the most frequent words in the headlines."
   ]
  },
  {
   "cell_type": "code",
   "execution_count": null,
   "id": "75ff52b6",
   "metadata": {},
   "outputs": [],
   "source": [
    "# Most common words in headlines from our selected publishers, ignoring stop words\n",
    "\n",
    "# vvv Try editing this code!\n",
    "top_words_number = 10\n",
    "# ^^^ Try editing this code!\n",
    "\n",
    "stopwords_list = [nopunct_pattern.sub('', sw.lower()) for sw in STOPWORDS]\n",
    "uk_goodwords_df = uk_words_df[~uk_words_df['WORDS'].isin(stopwords_list)]\n",
    "uk_goodword_counts = uk_goodwords_df['WORDS'].value_counts()\n",
    "us_goodwords_df = us_words_df[~us_words_df['WORDS'].isin(stopwords_list)]\n",
    "us_goodword_counts = us_goodwords_df['WORDS'].value_counts()\n",
    "\n",
    "print(str(top_words_number) + \" most common words from selected UK publishers:\")\n",
    "print(uk_goodword_counts[:top_words_number])\n",
    "print()\n",
    "print(str(top_words_number) + \" most common words from selected US publishers:\")\n",
    "print(us_goodword_counts[:top_words_number])\n"
   ]
  },
  {
   "cell_type": "markdown",
   "id": "6026b7c0",
   "metadata": {},
   "source": [
    "# Bar Charts\n",
    "\n",
    "We can create bar charts showing some of the most common words in a group of publishers. Again, you can choose how many words we display in our chart by changing the value of the `top_words_number` variable."
   ]
  },
  {
   "cell_type": "code",
   "execution_count": null,
   "id": "ecd7305c",
   "metadata": {},
   "outputs": [],
   "source": [
    "# Bar chart of UK data\n",
    "\n",
    "# This value is the number of most frequent words we'll include in our chart:\n",
    "# vvv Try editing this code!\n",
    "top_words_number = 10\n",
    "# ^^^ Try editing this code!\n",
    "\n",
    "word_counts_to_graph = uk_goodword_counts\n",
    "\n",
    "top_words_data = word_counts_to_graph[:top_words_number]\n",
    "fig, ax = plt.subplots()\n",
    "ax.bar(top_words_data.index, top_words_data.values)\n",
    "plt.show()\n"
   ]
  },
  {
   "cell_type": "markdown",
   "id": "a1cd1d28",
   "metadata": {},
   "source": [
    "The word labels run too closely together along the bottom of that chart, so let's try a horizontal bar chart instead."
   ]
  },
  {
   "cell_type": "code",
   "execution_count": null,
   "id": "bb91a064",
   "metadata": {},
   "outputs": [],
   "source": [
    "# Horizontal bar chart\n",
    "\n",
    "# This value is the number of most frequent words we'll include in our chart:\n",
    "# vvv Try editing this code!\n",
    "top_words_number = 10\n",
    "# ^^^ Try editing this code!\n",
    "\n",
    "word_counts_to_graph = uk_goodword_counts\n",
    "top_words_data = word_counts_to_graph[:top_words_number]\n",
    "fig, ax = plt.subplots()\n",
    "ax.barh(top_words_data.index[::-1], top_words_data.values[::-1])\n",
    "plt.show()\n"
   ]
  },
  {
   "cell_type": "markdown",
   "id": "fcc5f76a",
   "metadata": {},
   "source": [
    "There are several extra features that we can add to charts like this. Let's add a title for the chart, change the colour of the bars from the default blue, and add display the size of each bar as a label on the bar itself."
   ]
  },
  {
   "cell_type": "code",
   "execution_count": null,
   "id": "20249de9",
   "metadata": {},
   "outputs": [],
   "source": [
    "# Adding extra features\n",
    "\n",
    "# vvv Try editing this code!\n",
    "\n",
    "# This value is the number of most frequent words we'll include in our chart:\n",
    "top_words_number = 10\n",
    "# This value is the colour of the bars:\n",
    "bar_colour = \"red\"\n",
    "# This value will be the title that appears at the top:\n",
    "chart_title = \"Most common words in UK headlines\"\n",
    "\n",
    "# ^^^ Try editing this code!\n",
    "\n",
    "\n",
    "word_counts_to_graph = uk_goodword_counts\n",
    "\n",
    "top_words_data = word_counts_to_graph[:top_words_number]\n",
    "fig, ax = plt.subplots()\n",
    "bars = ax.barh(top_words_data.index[::-1], top_words_data.values[::-1], color=bar_colour)\n",
    "ax.bar_label(bars, label_type='center')\n",
    "ax.set_title(chart_title)\n",
    "plt.show()\n"
   ]
  },
  {
   "cell_type": "markdown",
   "id": "898ef81e",
   "metadata": {},
   "source": [
    "This is a useful piece of code that we might want to try running with various different options. In Python, we can write our own function that reads a list of input values, and always performs the same actions with those values. Here, we'll want a function that always produces a horizontal bar chart by using these values that we can change:\n",
    "- A list of word counts\n",
    "- The number of top words from our data set\n",
    "- A title for our chart\n",
    "- A colour for the bars in our chart\n",
    "\n",
    "Running this code won't immediately produce any output for us to see. Instead, running this code will just define a new function named `make_word_bar_chart` that we'll be able to use in later code."
   ]
  },
  {
   "cell_type": "code",
   "execution_count": null,
   "id": "5615184c",
   "metadata": {},
   "outputs": [],
   "source": [
    "# Defining a function for making our word chart\n",
    "\n",
    "def make_word_bar_chart(word_counts_to_graph, top_words_number, chart_title, bar_colour):\n",
    "    top_words_data = word_counts_to_graph[:top_words_number]\n",
    "    fig, ax = plt.subplots()\n",
    "    bars = ax.barh(top_words_data.index[::-1], top_words_data.values[::-1], color=bar_colour)\n",
    "    ax.bar_label(bars, label_type='center')\n",
    "    ax.set_title(chart_title)\n",
    "    plt.show()"
   ]
  },
  {
   "cell_type": "markdown",
   "id": "10bc9c2d",
   "metadata": {},
   "source": [
    "Now we can use the function we just wrote, and re-generate our previous graph with just a single line of code."
   ]
  },
  {
   "cell_type": "code",
   "execution_count": null,
   "id": "ddd17318",
   "metadata": {},
   "outputs": [],
   "source": [
    "# Creating a bar chart with our make_word_bar_chart function\n",
    "\n",
    "make_word_bar_chart(uk_goodword_counts, 10, \"Most common words in UK headlines\", \"red\")"
   ]
  },
  {
   "cell_type": "markdown",
   "id": "175975dd",
   "metadata": {},
   "source": [
    "We can also re-use our function to make a different graph, of the US word counts instead. Try this by running the code below. You can also change the input values to specify the UK or US data set, the number of top words to display, the title for the chart, and the colour of the bars."
   ]
  },
  {
   "cell_type": "code",
   "execution_count": null,
   "id": "8d69262c",
   "metadata": {},
   "outputs": [],
   "source": [
    "# We can also re-use our function to make a different graph, of the US word counts instead\n",
    "\n",
    "# vvv Try editing this code!\n",
    "make_word_bar_chart(us_goodword_counts, 12, \"Top words in US headlines\", \"cyan\")\n",
    "# ^^^ Try editing this code!"
   ]
  },
  {
   "cell_type": "markdown",
   "id": "bcce720c",
   "metadata": {},
   "source": [
    "# Word Clouds\n",
    "\n",
    "We can also make word clouds that show the most common words. The algorithm for creating these word clouds has an element of randomness, so you can run the code multiple times to generate a slightly different-looking word cloud each time."
   ]
  },
  {
   "cell_type": "code",
   "execution_count": null,
   "id": "893cd505",
   "metadata": {},
   "outputs": [],
   "source": [
    "# Word cloud for UK headlines\n",
    "\n",
    "text_for_cloud = \" \".join(uk_goodwords_df['WORDS'].tolist())\n",
    "wcloud = WordCloud(normalize_plurals=False).generate(text_for_cloud)\n",
    "plt.figure()\n",
    "plt.imshow(wcloud, interpolation='bilinear')\n",
    "plt.axis(\"off\")\n",
    "plt.show()"
   ]
  },
  {
   "cell_type": "code",
   "execution_count": null,
   "id": "b848125d",
   "metadata": {},
   "outputs": [],
   "source": [
    "# Word cloud for US headlines\n",
    "\n",
    "text_for_cloud = \" \".join(us_goodwords_df['WORDS'].tolist())\n",
    "wcloud = WordCloud(normalize_plurals=False).generate(text_for_cloud)\n",
    "plt.figure()\n",
    "plt.imshow(wcloud, interpolation='bilinear')\n",
    "plt.axis(\"off\")\n",
    "plt.show()"
   ]
  },
  {
   "cell_type": "markdown",
   "id": "a52f7a88",
   "metadata": {},
   "source": [
    "# Closing Comments\n",
    "\n",
    "(Any parting thoughts)"
   ]
  }
 ],
 "metadata": {
  "kernelspec": {
   "display_name": "Python 3 (ipykernel)",
   "language": "python",
   "name": "python3"
  },
  "language_info": {
   "codemirror_mode": {
    "name": "ipython",
    "version": 3
   },
   "file_extension": ".py",
   "mimetype": "text/x-python",
   "name": "python",
   "nbconvert_exporter": "python",
   "pygments_lexer": "ipython3",
   "version": "3.9.13"
  }
 },
 "nbformat": 4,
 "nbformat_minor": 5
}
